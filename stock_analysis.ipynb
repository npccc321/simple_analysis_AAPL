{
 "cells": [
  {
   "cell_type": "markdown",
   "id": "cba68fdf",
   "metadata": {},
   "source": [
    "# Given two random variables A and B\n",
    "\n",
    "# If Pr(A) = Pr(A|B) then A and B are independant"
   ]
  },
  {
   "cell_type": "code",
   "execution_count": null,
   "id": "657e1aed",
   "metadata": {},
   "outputs": [],
   "source": []
  },
  {
   "cell_type": "code",
   "execution_count": 1,
   "id": "27aa54e2",
   "metadata": {},
   "outputs": [],
   "source": [
    "import numpy as np\n",
    "import pandas as pd"
   ]
  },
  {
   "cell_type": "code",
   "execution_count": 2,
   "id": "20ffb06d",
   "metadata": {},
   "outputs": [],
   "source": [
    "#df = pd.read_csv('../data_processing/updates/AMD_train_updated_sep3.csv', index_col=0)\n"
   ]
  },
  {
   "cell_type": "code",
   "execution_count": 15,
   "id": "8355fcbd",
   "metadata": {},
   "outputs": [],
   "source": [
    "df_AAPL = pd.read_csv('./df_AAPL_subset.csv', index_col=0) #df['close_AAPL']"
   ]
  },
  {
   "cell_type": "code",
   "execution_count": 16,
   "id": "1abdbd40",
   "metadata": {},
   "outputs": [],
   "source": [
    "df_AAPL.index = pd.to_datetime(df_AAPL.index)\n",
    "df_AAPL = df_AAPL.sort_index()"
   ]
  },
  {
   "cell_type": "code",
   "execution_count": 17,
   "id": "62b7227f",
   "metadata": {},
   "outputs": [
    {
     "name": "stdout",
     "output_type": "stream",
     "text": [
      "(685083, 1)\n"
     ]
    }
   ],
   "source": [
    "print(df_AAPL.shape)"
   ]
  },
  {
   "cell_type": "code",
   "execution_count": 18,
   "id": "138ab3bf",
   "metadata": {},
   "outputs": [
    {
     "name": "stdout",
     "output_type": "stream",
     "text": [
      "                           close_AAPL\n",
      "time                                 \n",
      "2022-02-24 13:22:30-05:00      158.43\n",
      "2022-02-24 13:22:35-05:00      158.48\n",
      "2022-02-24 13:22:40-05:00      158.47\n",
      "2022-02-24 13:22:45-05:00      158.44\n",
      "2022-02-24 13:22:50-05:00      158.50\n",
      "...                               ...\n",
      "2022-09-26 15:59:35-04:00      150.71\n",
      "2022-09-26 15:59:40-04:00      150.67\n",
      "2022-09-26 15:59:45-04:00      150.61\n",
      "2022-09-26 15:59:50-04:00      150.67\n",
      "2022-09-26 15:59:55-04:00      150.75\n",
      "\n",
      "[685083 rows x 1 columns]\n"
     ]
    }
   ],
   "source": [
    "print(df_AAPL)"
   ]
  },
  {
   "cell_type": "code",
   "execution_count": 19,
   "id": "1475da55",
   "metadata": {
    "scrolled": true
   },
   "outputs": [],
   "source": [
    "#df_AAPL.iloc[int(df_AAPL.shape[0]*0.2):].to_csv('./df_AAPL_subset.csv')"
   ]
  },
  {
   "cell_type": "code",
   "execution_count": 20,
   "id": "f5011e06",
   "metadata": {},
   "outputs": [],
   "source": [
    "#df_AAPL.to_csv('./df_AAPL.csv')"
   ]
  },
  {
   "cell_type": "code",
   "execution_count": null,
   "id": "bbb88d47",
   "metadata": {},
   "outputs": [],
   "source": []
  },
  {
   "cell_type": "markdown",
   "id": "446d9bbc",
   "metadata": {},
   "source": [
    "# Does the price movement in t+1 depend on the price movement at time t ?"
   ]
  },
  {
   "cell_type": "markdown",
   "id": "6f8d6cd9",
   "metadata": {},
   "source": [
    "If they are independant, then:\n",
    "\n",
    "\n",
    "Pr(stock price goes up at t + 1 | stock price goes up at time t ) = Pr(stock price goes up at t + 1)\n",
    "\n",
    "\n",
    "Pr(stock price goes up at t + 1 | stock price goes down at time t ) = Pr(stock price goes up at t + 1)\n",
    "\n",
    "\n",
    "ect\n"
   ]
  },
  {
   "cell_type": "code",
   "execution_count": null,
   "id": "878606a3",
   "metadata": {},
   "outputs": [],
   "source": []
  },
  {
   "cell_type": "code",
   "execution_count": 21,
   "id": "40601ff7",
   "metadata": {},
   "outputs": [],
   "source": [
    "loc_stock_goes_up_at_t = np.where(df_AAPL.diff() > 0)[0]\n",
    "loc_stock_goes_up_at_t1 = np.where(df_AAPL.diff().iloc[1:] > 0)[0]\n",
    "\n",
    "pr_t1_up_conditioned_on_t_up = np.intersect1d(loc_stock_goes_up_at_t1, \n",
    "                                              loc_stock_goes_up_at_t).shape[0] / loc_stock_goes_up_at_t1.shape[0]\n",
    "pr_t1_up = loc_stock_goes_up_at_t1.shape[0] / df_AAPL.shape[0]"
   ]
  },
  {
   "cell_type": "code",
   "execution_count": 22,
   "id": "513318b7",
   "metadata": {},
   "outputs": [
    {
     "name": "stdout",
     "output_type": "stream",
     "text": [
      "0.4159922895547562\n",
      "0.4240581068279318\n"
     ]
    }
   ],
   "source": [
    "print(pr_t1_up_conditioned_on_t_up)\n",
    "print(pr_t1_up)"
   ]
  },
  {
   "cell_type": "code",
   "execution_count": null,
   "id": "795311bd",
   "metadata": {},
   "outputs": [],
   "source": []
  },
  {
   "cell_type": "code",
   "execution_count": 23,
   "id": "7e8610c6",
   "metadata": {},
   "outputs": [],
   "source": [
    "loc_stock_goes_down_at_t = np.where(df_AAPL.diff() < 0)[0]\n",
    "loc_stock_goes_up_at_t1 = np.where(df_AAPL.diff().iloc[1:] > 0)[0]\n",
    "\n",
    "pr_t1_up_conditioned_on_t_down = np.intersect1d(loc_stock_goes_up_at_t1, \n",
    "                                              loc_stock_goes_down_at_t).shape[0] / loc_stock_goes_up_at_t1.shape[0]\n",
    "pr_t1_up = loc_stock_goes_up_at_t1.shape[0] / df_AAPL.shape[0]"
   ]
  },
  {
   "cell_type": "code",
   "execution_count": 24,
   "id": "f5ff0a27",
   "metadata": {},
   "outputs": [
    {
     "name": "stdout",
     "output_type": "stream",
     "text": [
      "0.43595339311223175\n",
      "0.4240581068279318\n"
     ]
    }
   ],
   "source": [
    "print(pr_t1_up_conditioned_on_t_down)\n",
    "print(pr_t1_up)"
   ]
  },
  {
   "cell_type": "code",
   "execution_count": null,
   "id": "434b5e29",
   "metadata": {},
   "outputs": [],
   "source": []
  },
  {
   "cell_type": "code",
   "execution_count": 25,
   "id": "80acda11",
   "metadata": {},
   "outputs": [],
   "source": [
    "loc_stock_goes_down_at_t = np.where(df_AAPL.diff() < 0)[0]\n",
    "loc_stock_goes_down_at_t1 = np.where(df_AAPL.diff().iloc[1:] < 0)[0]\n",
    "\n",
    "pr_t1_down_conditioned_on_t_down = np.intersect1d(loc_stock_goes_down_at_t1, \n",
    "                                              loc_stock_goes_down_at_t).shape[0] / loc_stock_goes_down_at_t1.shape[0]\n",
    "pr_t1_down = loc_stock_goes_down_at_t1.shape[0] / df_AAPL.shape[0]"
   ]
  },
  {
   "cell_type": "code",
   "execution_count": 26,
   "id": "764067f6",
   "metadata": {},
   "outputs": [
    {
     "name": "stdout",
     "output_type": "stream",
     "text": [
      "0.4152322345335431\n",
      "0.42221891362068537\n"
     ]
    }
   ],
   "source": [
    "print(pr_t1_down_conditioned_on_t_down)\n",
    "print(pr_t1_down)"
   ]
  },
  {
   "cell_type": "code",
   "execution_count": null,
   "id": "e4858f9a",
   "metadata": {},
   "outputs": [],
   "source": []
  },
  {
   "cell_type": "code",
   "execution_count": 27,
   "id": "221eb5ed",
   "metadata": {},
   "outputs": [],
   "source": [
    "pr_t1_down_conditioned_on_t_up = np.intersect1d(loc_stock_goes_down_at_t1, \n",
    "                                              loc_stock_goes_up_at_t).shape[0] / loc_stock_goes_down_at_t1.shape[0]"
   ]
  },
  {
   "cell_type": "code",
   "execution_count": 28,
   "id": "7114827f",
   "metadata": {},
   "outputs": [
    {
     "name": "stdout",
     "output_type": "stream",
     "text": [
      "0.4380010717187257\n",
      "0.42221891362068537\n"
     ]
    }
   ],
   "source": [
    "print(pr_t1_down_conditioned_on_t_up)\n",
    "print(pr_t1_down)"
   ]
  },
  {
   "cell_type": "markdown",
   "id": "ca17e1a5",
   "metadata": {},
   "source": []
  },
  {
   "cell_type": "markdown",
   "id": "b9624099",
   "metadata": {},
   "source": [
    "Can we conclude that the price movement at t + 1 is independant of the price movement at t?"
   ]
  },
  {
   "cell_type": "code",
   "execution_count": null,
   "id": "cabf591f",
   "metadata": {},
   "outputs": [],
   "source": []
  },
  {
   "cell_type": "code",
   "execution_count": null,
   "id": "8d0d4bd9",
   "metadata": {},
   "outputs": [],
   "source": []
  },
  {
   "cell_type": "markdown",
   "id": "6ecddc20",
   "metadata": {},
   "source": [
    "# Another analysis"
   ]
  },
  {
   "cell_type": "markdown",
   "id": "48288579",
   "metadata": {},
   "source": [
    "# MA with a window size of N at time t = avg(Price[t, t-1, t-2, ..., t-N]), lagging\n",
    "# centered MA (EMA) at time t = avg(Price[t-N/2, t-N/2 + 1, ..., t ..., t+N/2]), no lag"
   ]
  },
  {
   "cell_type": "code",
   "execution_count": null,
   "id": "ed280172",
   "metadata": {},
   "outputs": [],
   "source": []
  },
  {
   "cell_type": "markdown",
   "id": "4eddd7d7",
   "metadata": {},
   "source": [
    "# EMA is an estimate of the expectation value of the price move at time t\n",
    "# Can MA at time t give us info on EMA at time t + 1"
   ]
  },
  {
   "cell_type": "code",
   "execution_count": null,
   "id": "10df6986",
   "metadata": {},
   "outputs": [],
   "source": []
  },
  {
   "cell_type": "code",
   "execution_count": 29,
   "id": "bef17a10",
   "metadata": {},
   "outputs": [],
   "source": [
    "from matplotlib import pyplot as plt"
   ]
  },
  {
   "cell_type": "code",
   "execution_count": 30,
   "id": "c56a4a4a",
   "metadata": {},
   "outputs": [],
   "source": [
    "days = df_AAPL.index.map(pd.Timestamp.date).unique()"
   ]
  },
  {
   "cell_type": "code",
   "execution_count": 31,
   "id": "e13a0621",
   "metadata": {},
   "outputs": [],
   "source": [
    "day = days[0]\n",
    "current_day_df_idxes = np.where(df_AAPL.index.map(pd.Timestamp.date) == day)[0]\n",
    "current_day_df = df_AAPL.iloc[current_day_df_idxes]\n",
    "current_day_df_diff = current_day_df.diff()\n",
    "current_day_df_diff_next_time_step = current_day_df_diff.iloc[1:]\n"
   ]
  },
  {
   "cell_type": "code",
   "execution_count": 32,
   "id": "29a1b764",
   "metadata": {
    "scrolled": false
   },
   "outputs": [
    {
     "data": {
      "image/png": "[encoded data removed]",
      "text/plain": [
       "<Figure size 432x288 with 1 Axes>"
      ]
     },
     "metadata": {
      "needs_background": "light"
     },
     "output_type": "display_data"
    },
    {
     "data": {
      "image/png": "[encoded data removed]",
      "text/plain": [
       "<Figure size 432x288 with 1 Axes>"
      ]
     },
     "metadata": {
      "needs_background": "light"
     },
     "output_type": "display_data"
    }
   ],
   "source": [
    "start_index = 1000\n",
    "length = 100\n",
    "plt.figure()\n",
    "plt.plot(range(length), current_day_df.iloc[start_index:start_index+length])\n",
    "plt.title('AAPL price at date' + str(day))\n",
    "plt.show()\n",
    "\n",
    "plt.figure()\n",
    "plt.plot(range(length), current_day_df_diff.iloc[start_index:start_index+length])\n",
    "plt.title('AAPL price change at date' + str(day))\n",
    "plt.show()"
   ]
  },
  {
   "cell_type": "markdown",
   "id": "6a7f1161",
   "metadata": {},
   "source": [
    "There is a lot of noise in the price movements"
   ]
  },
  {
   "cell_type": "markdown",
   "id": "7245590e",
   "metadata": {},
   "source": [
    "Lets first try to reduce the noise by computing a moving average"
   ]
  },
  {
   "cell_type": "code",
   "execution_count": 33,
   "id": "45b09d5e",
   "metadata": {
    "scrolled": false
   },
   "outputs": [
    {
     "data": {
      "image/png": "[encoded data removed]",
      "text/plain": [
       "<Figure size 432x288 with 1 Axes>"
      ]
     },
     "metadata": {
      "needs_background": "light"
     },
     "output_type": "display_data"
    },
    {
     "data": {
      "image/png": "[encoded data removed]",
      "text/plain": [
       "<Figure size 432x288 with 1 Axes>"
      ]
     },
     "metadata": {
      "needs_background": "light"
     },
     "output_type": "display_data"
    }
   ],
   "source": [
    "rolling_avg_current_df = current_day_df.rolling(11).mean()\n",
    "plt.figure()\n",
    "plt.plot(range(length), current_day_df.iloc[start_index:start_index+length])\n",
    "plt.plot(range(length), rolling_avg_current_df.iloc[start_index:start_index+length])\n",
    "plt.show()\n",
    "\n",
    "rolling_avg_current_df_centered = current_day_df.rolling(11, center = True).mean()\n",
    "plt.figure()\n",
    "plt.plot(range(length), current_day_df.iloc[start_index:start_index+length])\n",
    "plt.plot(range(length), rolling_avg_current_df_centered.iloc[start_index:start_index+length])\n",
    "plt.show()"
   ]
  },
  {
   "cell_type": "code",
   "execution_count": 34,
   "id": "3bf145c0",
   "metadata": {},
   "outputs": [
    {
     "data": {
      "image/png": "[encoded data removed]",
      "text/plain": [
       "<Figure size 432x288 with 1 Axes>"
      ]
     },
     "metadata": {
      "needs_background": "light"
     },
     "output_type": "display_data"
    }
   ],
   "source": [
    "plt.figure()\n",
    "plt.plot(range(length), current_day_df.iloc[start_index:start_index+length].diff())\n",
    "plt.plot(range(length), rolling_avg_current_df_centered.iloc[start_index:start_index+length].diff())\n",
    "plt.show()"
   ]
  },
  {
   "cell_type": "code",
   "execution_count": null,
   "id": "c121fc5d",
   "metadata": {},
   "outputs": [],
   "source": []
  },
  {
   "cell_type": "code",
   "execution_count": null,
   "id": "f1f190cd",
   "metadata": {},
   "outputs": [],
   "source": []
  },
  {
   "cell_type": "markdown",
   "id": "54079a62",
   "metadata": {},
   "source": [
    "1. Computing the moving average can reduce noise\n",
    "\n",
    "2. The normal rolling average (which is lagging) can be computed in real time\n",
    "\n",
    "3. The centered rolling average, but can't be computed in real time because it uses future data points. It estimate the expectation value of the current price"
   ]
  },
  {
   "cell_type": "code",
   "execution_count": null,
   "id": "a8aa473b",
   "metadata": {},
   "outputs": [],
   "source": []
  },
  {
   "cell_type": "markdown",
   "id": "157b5bbf",
   "metadata": {},
   "source": [
    "# Can the expectation value of the future price movement be predicted using current and past data ?"
   ]
  },
  {
   "cell_type": "markdown",
   "id": "5025cab6",
   "metadata": {},
   "source": [
    "Can I use the (lagging) moving average price change at time step t to predict the non-lagging moving averge price change at time step t + 1"
   ]
  },
  {
   "cell_type": "code",
   "execution_count": 35,
   "id": "4a4736be",
   "metadata": {
    "scrolled": true
   },
   "outputs": [
    {
     "name": "stdout",
     "output_type": "stream",
     "text": [
      "2022-02-24\n",
      "0.676728334956183\n",
      "0.5459861775651249\n",
      "2022-02-25\n",
      "0.6724576271186441\n",
      "0.5052451295225862\n",
      "2022-02-28\n",
      "0.6424482606781153\n",
      "0.4861913937058446\n",
      "2022-03-01\n",
      "0.5770136599152144\n",
      "0.45470122081816233\n",
      "2022-03-02\n",
      "0.6264693077927732\n",
      "0.49175765360736456\n",
      "2022-03-03\n",
      "0.6154575628259839\n",
      "0.45286665235129914\n",
      "2022-03-04\n",
      "0.6350649350649351\n",
      "0.4947526236881559\n",
      "2022-03-07\n",
      "0.5855169128156265\n",
      "0.44936844358809674\n",
      "2022-03-08\n",
      "0.6325966850828729\n",
      "0.46499678869621064\n",
      "2022-03-09\n",
      "0.6521739130434783\n",
      "0.5120959109398415\n",
      "2022-03-10\n",
      "0.6111111111111112\n",
      "0.4701348747591522\n",
      "2022-03-11\n",
      "0.6131898971000935\n",
      "0.4577178334403768\n",
      "2022-03-14\n",
      "0.6\n",
      "0.444515852613539\n",
      "2022-03-15\n",
      "0.6737792367665162\n",
      "0.521729822307857\n",
      "2022-03-16\n",
      "0.6229361892012495\n",
      "0.4797687861271676\n",
      "2022-03-17\n",
      "0.6236178681999115\n",
      "0.4840505245129523\n",
      "2022-03-18\n",
      "0.6503996634413126\n",
      "0.5088846071505031\n",
      "2022-03-21\n",
      "0.6651143099068586\n",
      "0.5056733033611647\n",
      "2022-03-22\n",
      "0.63709336713139\n",
      "0.5067437379576107\n",
      "2022-03-23\n",
      "0.6539777587681779\n",
      "0.500535217298223\n",
      "2022-03-24\n",
      "0.6586700336700336\n",
      "0.5086705202312138\n",
      "2022-03-25\n",
      "0.652885443583118\n",
      "0.4982832618025751\n",
      "2022-03-28\n",
      "0.649810366624526\n",
      "0.5080282594733462\n",
      "2022-03-29\n",
      "0.6587937579080557\n",
      "0.5076000856347677\n",
      "2022-03-30\n",
      "0.6137865911237016\n",
      "0.45343609505459215\n",
      "2022-03-31\n",
      "0.6026615969581749\n",
      "0.4504388781845429\n",
      "2022-04-01\n",
      "0.631578947368421\n",
      "0.4555769642474845\n",
      "2022-04-04\n",
      "0.6197684772929652\n",
      "0.4808392207236138\n",
      "2022-04-05\n",
      "0.6006616257088847\n",
      "0.4530079212160137\n",
      "2022-04-06\n",
      "0.6252310536044362\n",
      "0.4632840933418968\n",
      "2022-04-07\n",
      "0.6265765765765766\n",
      "0.47527296082209375\n",
      "2022-04-08\n",
      "0.615491651205937\n",
      "0.46157139798758295\n",
      "2022-04-11\n",
      "0.611975483262612\n",
      "0.45407835581245987\n",
      "2022-04-12\n",
      "0.616589861751152\n",
      "0.4645686148576322\n",
      "2022-04-13\n",
      "0.6507054296707995\n",
      "0.5007493042175123\n",
      "2022-04-14\n",
      "0.5811704834605598\n",
      "0.4206807964033398\n",
      "2022-04-18\n",
      "0.6\n",
      "0.4506529651038322\n",
      "2022-04-19\n",
      "0.610040340654415\n",
      "0.4776279169342753\n",
      "2022-04-20\n",
      "0.6134228187919463\n",
      "0.48085197934595525\n",
      "2022-04-21\n",
      "0.6179245283018868\n",
      "0.4538642688931706\n",
      "2022-04-22\n",
      "0.5814075630252101\n",
      "0.40762149432669664\n",
      "2022-04-25\n",
      "0.634394341290893\n",
      "0.4842646114322415\n",
      "2022-04-26\n",
      "0.5887445887445888\n",
      "0.44508670520231214\n",
      "2022-04-27\n",
      "0.6000907852927826\n",
      "0.4722400857449089\n",
      "2022-04-28\n",
      "0.6413361169102296\n",
      "0.5127381716977093\n",
      "2022-04-29\n",
      "0.604374702805516\n",
      "0.45022479126525367\n",
      "2022-05-02\n",
      "0.6138790035587188\n",
      "0.48126739456219225\n",
      "2022-05-03\n",
      "0.6321041214750542\n",
      "0.49347034896167846\n",
      "2022-05-04\n",
      "0.652923853596971\n",
      "0.5088846071505031\n",
      "2022-05-05\n",
      "0.5929672447013488\n",
      "0.4444444444444444\n",
      "2022-05-06\n",
      "0.6436123348017622\n",
      "0.4859773067865553\n",
      "2022-05-09\n",
      "0.6075243845796563\n",
      "0.4609291372297153\n",
      "2022-05-10\n",
      "0.628911414720141\n",
      "0.4857632198672661\n",
      "2022-05-11\n",
      "0.6185977125808055\n",
      "0.4305287946906444\n",
      "2022-05-12\n",
      "0.6524204099433057\n",
      "0.49090130593020764\n",
      "2022-05-13\n",
      "0.6559322033898305\n",
      "0.5052451295225862\n",
      "2022-05-16\n",
      "0.6053225078935498\n",
      "0.4746307000642261\n",
      "2022-05-17\n",
      "0.6203582350371342\n",
      "0.4900449582530507\n",
      "2022-05-18\n",
      "0.5764525993883792\n",
      "0.42003853564547206\n",
      "2022-05-19\n",
      "0.6298997265268915\n",
      "0.46970670092057376\n",
      "2022-05-20\n",
      "0.6191142191142192\n",
      "0.4592164418754014\n",
      "2022-05-23\n",
      "0.6242011077971878\n",
      "0.5024619995718261\n",
      "2022-05-24\n",
      "0.6365668305766652\n",
      "0.4789124384500107\n",
      "2022-05-25\n",
      "0.6191964285714285\n",
      "0.48037743941668454\n",
      "2022-05-26\n",
      "0.6453781512605042\n",
      "0.5095268679083708\n",
      "2022-05-27\n",
      "0.6492631578947369\n",
      "0.5084564333119247\n",
      "2022-05-31\n",
      "0.6435512367491166\n",
      "0.48469278527081994\n",
      "2022-06-01\n",
      "0.6278549037169727\n",
      "0.47805609077285377\n",
      "2022-06-02\n",
      "0.6212314225053078\n",
      "0.50417469492614\n",
      "2022-06-03\n",
      "0.603056970819824\n",
      "0.4622136587454507\n",
      "2022-06-06\n",
      "0.5934471619750807\n",
      "0.4639263540997645\n",
      "2022-06-07\n",
      "0.6328686100549218\n",
      "0.5067437379576107\n",
      "2022-06-09\n",
      "0.5824175824175825\n",
      "0.4286020124170413\n",
      "2022-06-10\n",
      "0.6132075471698113\n",
      "0.4538642688931706\n",
      "2022-06-13\n",
      "0.6107536764705882\n",
      "0.46585313637336756\n",
      "2022-06-14\n",
      "0.628584229390681\n",
      "0.47784200385356457\n",
      "2022-06-15\n",
      "0.6124338624338624\n",
      "0.48554913294797686\n",
      "2022-06-16\n",
      "0.6088595664467483\n",
      "0.45429244273174907\n",
      "2022-06-17\n",
      "0.6182893539581438\n",
      "0.4705630485977307\n",
      "2022-06-21\n",
      "0.6128456735057984\n",
      "0.47998287304645687\n",
      "2022-06-22\n",
      "0.643314822725331\n",
      "0.5011774780560908\n",
      "2022-06-23\n",
      "0.6254280821917808\n",
      "0.5001070434596446\n",
      "2022-06-24\n",
      "0.6280432822362488\n",
      "0.4748447869835153\n",
      "2022-06-27\n",
      "0.5765379113018598\n",
      "0.4489402697495183\n",
      "2022-06-28\n",
      "0.5679921453117329\n",
      "0.4360950545921644\n",
      "2022-06-29\n",
      "0.6085011185682326\n",
      "0.47848426461143223\n",
      "2022-06-30\n",
      "0.6298614215467143\n",
      "0.4789124384500107\n",
      "2022-07-01\n",
      "0.6413412563667232\n",
      "0.5043887818454292\n",
      "2022-07-05\n",
      "0.6345991561181434\n",
      "0.5073859987154785\n",
      "2022-07-06\n",
      "0.6354616048317515\n",
      "0.49625347891243843\n",
      "2022-07-07\n",
      "0.6425183268650281\n",
      "0.4964675658317277\n",
      "2022-07-08\n",
      "0.642702468601126\n",
      "0.4943266966388354\n",
      "2022-07-11\n",
      "0.6042228212039533\n",
      "0.4765574823378292\n",
      "2022-07-12\n",
      "0.6139774859287055\n",
      "0.4571183533447684\n",
      "2022-07-13\n",
      "0.623637156563454\n",
      "0.49090130593020764\n",
      "2022-07-14\n",
      "0.6339097427245888\n",
      "0.5076000856347677\n",
      "2022-07-15\n",
      "0.6215370866845398\n",
      "0.47912652536929995\n",
      "2022-07-18\n",
      "0.5965708522440747\n",
      "0.4245343609505459\n",
      "2022-07-19\n",
      "0.6686772942697113\n",
      "0.49689573967030615\n",
      "2022-07-20\n",
      "0.6305953933072577\n",
      "0.49261400128452154\n",
      "2022-07-21\n",
      "0.6368715083798883\n",
      "0.49818026118604153\n",
      "2022-07-22\n",
      "0.6068097014925373\n",
      "0.4590023549561122\n",
      "2022-07-25\n",
      "0.5864661654135338\n",
      "0.45577211394302847\n",
      "2022-07-26\n",
      "0.6065116279069768\n",
      "0.4602868764718476\n",
      "2022-07-27\n",
      "0.628448275862069\n",
      "0.4966816527510169\n",
      "2022-07-28\n",
      "0.6300174520069808\n",
      "0.49068721901091844\n",
      "2022-07-29\n",
      "0.6441964285714286\n",
      "0.4795546992078784\n",
      "2022-08-01\n",
      "0.6517571884984026\n",
      "0.46906444016270604\n",
      "2022-08-02\n",
      "0.631768953068592\n",
      "0.4744166131449368\n",
      "2022-08-03\n",
      "0.669449081803005\n",
      "0.5129522586169984\n",
      "2022-08-04\n",
      "0.6195603409600717\n",
      "0.47719974309569685\n",
      "2022-08-05\n",
      "0.6301308073973838\n",
      "0.4746307000642261\n",
      "2022-08-08\n",
      "0.6232713400095374\n",
      "0.4489402697495183\n",
      "2022-08-09\n",
      "0.5949252378794744\n",
      "0.4724898308713338\n",
      "2022-08-10\n",
      "0.6412441414571793\n",
      "0.5024619995718261\n",
      "2022-08-11\n",
      "0.6113744075829384\n",
      "0.4517233997002783\n",
      "2022-08-12\n",
      "0.6175814368585453\n",
      "0.4802828975567938\n",
      "2022-08-15\n",
      "0.6051423324150597\n",
      "0.4662813102119461\n",
      "2022-08-16\n",
      "0.6347983688264612\n",
      "0.4724898308713338\n",
      "2022-08-17\n",
      "0.6232599910193085\n",
      "0.4767715692571184\n",
      "2022-08-18\n",
      "0.6223839854413102\n",
      "0.4705630485977307\n",
      "2022-08-19\n",
      "0.6200093940817285\n",
      "0.4557910511667737\n",
      "2022-08-22\n",
      "0.5916988416988417\n",
      "0.4435880967672875\n",
      "2022-08-23\n",
      "0.6273674242424242\n",
      "0.45215157353885677\n",
      "2022-08-24\n",
      "0.6158759124087592\n",
      "0.4692785270819953\n",
      "2022-08-25\n",
      "0.6450892857142857\n",
      "0.479965716734519\n",
      "2022-08-26\n",
      "0.5990049751243781\n",
      "0.43031470777135516\n",
      "2022-08-29\n",
      "0.6198723792160438\n",
      "0.46970670092057376\n",
      "2022-08-30\n",
      "0.6181549087321164\n",
      "0.4339541853992721\n",
      "2022-08-31\n",
      "0.5946828358208955\n",
      "0.4590023549561122\n",
      "2022-09-01\n",
      "0.631531933899062\n",
      "0.47934061228858915\n",
      "2022-09-02\n",
      "0.6164574616457462\n",
      "0.4605009633911368\n",
      "2022-09-06\n",
      "0.6147003745318352\n",
      "0.45728965960179835\n",
      "2022-09-07\n",
      "0.6394703118325502\n",
      "0.5011774780560908\n",
      "2022-09-08\n",
      "0.6458061712299\n",
      "0.49261400128452154\n",
      "2022-09-09\n",
      "0.6316472114137484\n",
      "0.4951830443159923\n",
      "2022-09-12\n",
      "0.6395895681915349\n",
      "0.5007493042175123\n",
      "2022-09-13\n",
      "0.5599582898852972\n",
      "0.41061871119674587\n",
      "2022-09-14\n",
      "0.6520332717190388\n",
      "0.4632840933418968\n",
      "2022-09-15\n",
      "0.6116279069767442\n",
      "0.4602868764718476\n",
      "2022-09-16\n",
      "0.6255125284738041\n",
      "0.46992078783986296\n",
      "2022-09-19\n",
      "0.6528066528066528\n",
      "0.5148790408906015\n",
      "2022-09-20\n",
      "0.6244598098530683\n",
      "0.4953971312352815\n",
      "2022-09-21\n",
      "0.6360424028268551\n",
      "0.48469278527081994\n",
      "2022-09-22\n",
      "0.6255625562556255\n",
      "0.4757011346606722\n",
      "2022-09-23\n",
      "0.5871819038642789\n",
      "0.45429244273174907\n",
      "2022-09-26\n",
      "0.6086956521739131\n",
      "0.46777991864697066\n"
     ]
    }
   ],
   "source": [
    "rolling_window_size = 9\n",
    "pr_df = []\n",
    "for day in days:\n",
    "    print(day)\n",
    "    current_day_df_idxes = np.where(df_AAPL.index.map(pd.Timestamp.date) == day)[0]\n",
    "    current_day_df = df_AAPL.iloc[current_day_df_idxes]\n",
    "    current_day_df_diff = current_day_df.diff()\n",
    "    current_day_df_diff_next_time_step = current_day_df_diff.iloc[1:]\n",
    "    \n",
    "    normal_moving_avg = current_day_df_diff.rolling(rolling_window_size).mean()\n",
    "    expectation_value_of_price_change_at_t1 = current_day_df_diff_next_time_step.rolling(rolling_window_size, \n",
    "                                                                                         center = True).mean()\n",
    "    pos_MA_idx = np.where(normal_moving_avg > 0)[0]\n",
    "    pos_EMA_t1_idx = np.where(expectation_value_of_price_change_at_t1 > 0)[0]\n",
    "    pos_MA_and_pos_EMA = np.intersect1d(pos_MA_idx, pos_EMA_t1_idx)\n",
    "    pr_pos_EMA_given_pos_MA = pos_MA_and_pos_EMA.shape[0]/pos_EMA_t1_idx.shape[0]\n",
    "    pr_pos_EMA = pos_EMA_t1_idx.shape[0]/(expectation_value_of_price_change_at_t1.shape[0] - \n",
    "                                         np.where(np.isnan(expectation_value_of_price_change_at_t1))[0].shape[0])\n",
    "    \n",
    "    print(pr_pos_EMA_given_pos_MA)\n",
    "    print(pr_pos_EMA)\n",
    "    \n",
    "    pr_df.append([day, pr_pos_EMA_given_pos_MA, pr_pos_EMA])\n",
    "    \n",
    "    "
   ]
  },
  {
   "cell_type": "code",
   "execution_count": 36,
   "id": "fa835db0",
   "metadata": {},
   "outputs": [
    {
     "name": "stdout",
     "output_type": "stream",
     "text": [
      "pr_EMA_up_at_t1_given_MA_up_at_t    0.62333\n",
      "pr_EMA_up_at_t1                     0.47576\n",
      "dtype: float64\n",
      "            pr_EMA_up_at_t1_given_MA_up_at_t  pr_EMA_up_at_t1\n",
      "date                                                         \n",
      "2022-02-24                          0.676728         0.545986\n",
      "2022-02-25                          0.672458         0.505245\n",
      "2022-02-28                          0.642448         0.486191\n",
      "2022-03-01                          0.577014         0.454701\n",
      "2022-03-02                          0.626469         0.491758\n",
      "...                                      ...              ...\n",
      "2022-09-20                          0.624460         0.495397\n",
      "2022-09-21                          0.636042         0.484693\n",
      "2022-09-22                          0.625563         0.475701\n",
      "2022-09-23                          0.587182         0.454292\n",
      "2022-09-26                          0.608696         0.467780\n",
      "\n",
      "[147 rows x 2 columns]\n"
     ]
    }
   ],
   "source": [
    "pr_df = pd.DataFrame(pr_df)\n",
    "pr_df.columns = ['date', 'pr_EMA_up_at_t1_given_MA_up_at_t', 'pr_EMA_up_at_t1']\n",
    "pr_df = pr_df.set_index('date')\n",
    "print(pr_df.mean())\n",
    "print(pr_df)"
   ]
  },
  {
   "cell_type": "code",
   "execution_count": null,
   "id": "e2fa4b0a",
   "metadata": {},
   "outputs": [],
   "source": []
  },
  {
   "cell_type": "code",
   "execution_count": 37,
   "id": "765dc26d",
   "metadata": {},
   "outputs": [
    {
     "name": "stdout",
     "output_type": "stream",
     "text": [
      "pr_EMA_up_at_t1_given_MA_up_at_t    0.022381\n",
      "pr_EMA_up_at_t1                     0.024433\n",
      "dtype: float64\n"
     ]
    }
   ],
   "source": [
    "print(pr_df.std())"
   ]
  },
  {
   "cell_type": "code",
   "execution_count": 38,
   "id": "c7081608",
   "metadata": {},
   "outputs": [
    {
     "data": {
      "text/plain": [
       "Text(0.5, 0, 'Counts')"
      ]
     },
     "execution_count": 38,
     "metadata": {},
     "output_type": "execute_result"
    },
    {
     "data": {
      "image/png": "[encoded data removed]",
      "text/plain": [
       "<Figure size 432x288 with 1 Axes>"
      ]
     },
     "metadata": {
      "needs_background": "light"
     },
     "output_type": "display_data"
    }
   ],
   "source": [
    "pr_df['pr_EMA_up_at_t1_given_MA_up_at_t'].hist(bins=30)\n",
    "plt.title('pr_EMA_up_at_t1_given_MA_up_at_t')\n",
    "plt.xlabel('Counts')\n",
    "\n"
   ]
  },
  {
   "cell_type": "code",
   "execution_count": 39,
   "id": "dc3c388a",
   "metadata": {},
   "outputs": [
    {
     "data": {
      "text/plain": [
       "Text(0.5, 0, 'Counts')"
      ]
     },
     "execution_count": 39,
     "metadata": {},
     "output_type": "execute_result"
    },
    {
     "data": {
      "image/png": "[encoded data removed]",
      "text/plain": [
       "<Figure size 432x288 with 1 Axes>"
      ]
     },
     "metadata": {
      "needs_background": "light"
     },
     "output_type": "display_data"
    }
   ],
   "source": [
    "pr_df['pr_EMA_up_at_t1'].hist(bins=30)\n",
    "plt.title('pr_EMA_up_at_t1')\n",
    "plt.xlabel('Counts')"
   ]
  },
  {
   "cell_type": "markdown",
   "id": "8189e73d",
   "metadata": {},
   "source": []
  },
  {
   "cell_type": "code",
   "execution_count": null,
   "id": "8e69847b",
   "metadata": {},
   "outputs": [],
   "source": []
  },
  {
   "cell_type": "code",
   "execution_count": null,
   "id": "2c2a1c94",
   "metadata": {},
   "outputs": [],
   "source": []
  },
  {
   "cell_type": "code",
   "execution_count": null,
   "id": "c96c0d37",
   "metadata": {},
   "outputs": [],
   "source": []
  },
  {
   "cell_type": "code",
   "execution_count": null,
   "id": "3095ebd5",
   "metadata": {},
   "outputs": [],
   "source": []
  },
  {
   "cell_type": "code",
   "execution_count": null,
   "id": "e422845c",
   "metadata": {},
   "outputs": [],
   "source": []
  },
  {
   "cell_type": "code",
   "execution_count": null,
   "id": "33e92223",
   "metadata": {},
   "outputs": [],
   "source": []
  },
  {
   "cell_type": "code",
   "execution_count": null,
   "id": "3b8a3a7d",
   "metadata": {},
   "outputs": [],
   "source": []
  },
  {
   "cell_type": "code",
   "execution_count": null,
   "id": "787ecdbd",
   "metadata": {},
   "outputs": [],
   "source": []
  },
  {
   "cell_type": "code",
   "execution_count": null,
   "id": "4d74b0bf",
   "metadata": {},
   "outputs": [],
   "source": []
  },
  {
   "cell_type": "code",
   "execution_count": null,
   "id": "4bd30612",
   "metadata": {},
   "outputs": [],
   "source": []
  },
  {
   "cell_type": "code",
   "execution_count": null,
   "id": "dcc101ec",
   "metadata": {},
   "outputs": [],
   "source": []
  },
  {
   "cell_type": "code",
   "execution_count": null,
   "id": "772eff9c",
   "metadata": {},
   "outputs": [],
   "source": []
  }
 ],
 "metadata": {
  "kernelspec": {
   "display_name": "Python 3",
   "language": "python",
   "name": "python3"
  },
  "language_info": {
   "codemirror_mode": {
    "name": "ipython",
    "version": 3
   },
   "file_extension": ".py",
   "mimetype": "text/x-python",
   "name": "python",
   "nbconvert_exporter": "python",
   "pygments_lexer": "ipython3",
   "version": "3.8.8"
  }
 },
 "nbformat": 4,
 "nbformat_minor": 5
}
